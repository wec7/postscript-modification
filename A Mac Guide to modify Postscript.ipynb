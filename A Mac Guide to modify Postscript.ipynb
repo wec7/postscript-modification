{
 "cells": [
  {
   "cell_type": "markdown",
   "metadata": {},
   "source": [
    "# A Mac guide to modify Postscript"
   ]
  },
  {
   "cell_type": "markdown",
   "metadata": {},
   "source": [
    "## Step 1: change the suffix of the file from .tex to .ps\n",
    " \n",
    " In Mac, click the file and press 'Enter', modify '.tex' to '.ps'.\n",
    "\n",
    " <img src=\"step1.png\">\n",
    " \n",
    " Click 'Use .ps'.\n",
    " \n",
    " <img src=\"step1-2.png\">"
   ]
  },
  {
   "cell_type": "markdown",
   "metadata": {},
   "source": [
    "## Step 2: Open Postscript file and Objective\n",
    "\n",
    "Double-click the file 'main.ps', it will automatically generate a pdf file.\n",
    "\n",
    "<img src='step2.png'>\n",
    "\n",
    "Go to page 7, let's assume our purpose is to update the following selected text.\n",
    "\n",
    "<img src='step2-2.png'>"
   ]
  },
  {
   "cell_type": "markdown",
   "metadata": {},
   "source": [
    "## Step 3: Use text-edit software to open Postscript file\n",
    "\n",
    "For me, I will use 'Sublime Text 2' as an example. You may not have this software installed, but you can use any text-edit softwares including TexShop.\n",
    "\n",
    "<img src='step3.png'>\n",
    "\n",
    "In 'Sublime Text 2', open 'main.ps' file.\n",
    "\n",
    "<img src='step3-2.png'>\n",
    "\n",
    "Below is what you will see.\n",
    "\n",
    "<img src='step3-3.png'>"
   ]
  },
  {
   "cell_type": "markdown",
   "metadata": {},
   "source": [
    "## Step 4: Search for featured text\n",
    "\n",
    "As we are going to update 'Preface', firstly we need to index the position by search 'Preface' (Command/Ctrl + F)\n",
    "\n",
    "<img src='step4.png'>\n",
    "\n",
    "We can see words like 'This introductory text ...', those are what we are going to modify."
   ]
  },
  {
   "cell_type": "markdown",
   "metadata": {},
   "source": [
    "## Step 5: Modification\n",
    "\n",
    "Add words after 'this', e.g., 'This is an updated text.'\n",
    "\n",
    "<img src='step5.png'>\n",
    "\n",
    "Remove other text unnecessary. Delete 'introductory', 'is', 'to', 'be', 'written', 'by' and 'Sylvain' in the brackets (remember not to remove characters outside of brackets). \n",
    "\n",
    "<img src='step5-2.png'>\n",
    "\n",
    "Save and close."
   ]
  },
  {
   "cell_type": "markdown",
   "metadata": {},
   "source": [
    "## Step 6: Re-open the file.\n",
    "\n",
    "Double-click, or right-click and open.\n",
    "\n",
    "<img src='step6.png'>\n",
    "\n",
    "Go to page 7, you will see the difference.\n",
    "\n",
    "<img src='step6-2.png'>"
   ]
  }
 ],
 "metadata": {
  "kernelspec": {
   "display_name": "Python 2",
   "language": "python",
   "name": "python2"
  },
  "language_info": {
   "codemirror_mode": {
    "name": "ipython",
    "version": 2
   },
   "file_extension": ".py",
   "mimetype": "text/x-python",
   "name": "python",
   "nbconvert_exporter": "python",
   "pygments_lexer": "ipython2",
   "version": "2.7.9"
  }
 },
 "nbformat": 4,
 "nbformat_minor": 0
}
